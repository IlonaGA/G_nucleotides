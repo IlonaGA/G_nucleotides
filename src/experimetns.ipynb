{
  "cells": [
    {
      "cell_type": "code",
      "execution_count": 2,
      "metadata": {
        "id": "Yj-8GBcK2jeN"
      },
      "outputs": [],
      "source": [
        "import networkx as nx\n",
        "import matplotlib.pyplot as plt\n",
        "from networkx.drawing.nx_pydot import graphviz_layout\n",
        "import numpy as np\n",
        "from itertools import product\n",
        "import torch"
      ]
    },
    {
      "cell_type": "code",
      "execution_count": 3,
      "metadata": {},
      "outputs": [],
      "source": [
        "from transition_matrix_eq_approx import transition_matrix, v, w, u, Neff"
      ]
    },
    {
      "cell_type": "code",
      "execution_count": 4,
      "metadata": {
        "id": "_EyKNO0Y24Zp"
      },
      "outputs": [],
      "source": [
        "graph = nx.DiGraph()\n",
        "tree = [(4, 5, 1.0), (4, 6, 4.6), (5, 0, 3.2), (5, 1, 2.2), (6, 2, 0.1), (6, 3, 2.4)]\n",
        "for parent, child, weight in tree:\n",
        "    graph.add_edge(parent, child, weight=weight)\n"
      ]
    },
    {
      "cell_type": "code",
      "execution_count": 7,
      "metadata": {
        "colab": {
          "base_uri": "https://localhost:8080/",
          "height": 491
        },
        "id": "QylqN7IY25Jh",
        "outputId": "4a97b125-60f0-4a37-f8e0-2f4272404e64"
      },
      "outputs": [],
      "source": [
        "# pos = graphviz_layout(graph, prog=\"dot\")\n",
        "# nx.draw_networkx(graph, pos, with_labels=True)\n",
        "# plt.show()"
      ]
    },
    {
      "cell_type": "code",
      "execution_count": 8,
      "metadata": {
        "colab": {
          "base_uri": "https://localhost:8080/"
        },
        "id": "eNLJ4KZcgI3o",
        "outputId": "b2eeea59-afda-4069-f3ed-54cf693c37c2"
      },
      "outputs": [
        {
          "data": {
            "text/plain": [
              "[]"
            ]
          },
          "execution_count": 8,
          "metadata": {},
          "output_type": "execute_result"
        }
      ],
      "source": [
        "list(graph.successors(0))"
      ]
    },
    {
      "cell_type": "code",
      "execution_count": 9,
      "metadata": {
        "id": "VuQ6FupYgIdZ"
      },
      "outputs": [],
      "source": [
        "graph.nodes[0]['sequence'] = [0, 1, 2, 3, 4]\n",
        "graph.nodes[1]['sequence'] = [5, 6, 7, 8, 9]\n",
        "graph.nodes[2]['sequence'] = [10, 11, 12, 13, 14]\n",
        "graph.nodes[3]['sequence'] = [15, 0, 1, 2, 3]\n",
        "\n",
        "sequence_length = 5\n",
        "nucl_size = 16\n",
        "nucls = list(range(nucl_size))"
      ]
    },
    {
      "cell_type": "code",
      "execution_count": 10,
      "metadata": {},
      "outputs": [],
      "source": [
        "%load_ext autoreload\n",
        "%autoreload 2"
      ]
    },
    {
      "cell_type": "code",
      "execution_count": 12,
      "metadata": {},
      "outputs": [],
      "source": [
        "from Felselstein import Felselstein "
      ]
    },
    {
      "cell_type": "code",
      "execution_count": 13,
      "metadata": {},
      "outputs": [],
      "source": [
        "test = Felselstein(graph, sequence_length, nucls)"
      ]
    },
    {
      "cell_type": "code",
      "execution_count": 14,
      "metadata": {},
      "outputs": [],
      "source": [
        "test.run()"
      ]
    },
    {
      "cell_type": "code",
      "execution_count": 15,
      "metadata": {},
      "outputs": [
        {
          "data": {
            "text/plain": [
              "tensor([[3.1379e-26, 5.5197e-16, 1.7704e-19, 3.8581e-28, 2.1139e-20, 1.4442e-25,\n",
              "         1.6006e-19, 5.7140e-29, 9.7806e-23, 2.5996e-21, 1.7616e-18, 3.6165e-23,\n",
              "         1.5151e-15, 9.6295e-18, 2.0195e-24, 3.0969e-29],\n",
              "        [1.0652e-25, 3.4257e-16, 7.2174e-19, 9.3463e-28, 8.5255e-23, 3.0289e-26,\n",
              "         6.6213e-20, 2.9564e-26, 4.8086e-24, 3.1534e-19, 2.4631e-18, 8.4204e-27,\n",
              "         9.3299e-20, 1.7387e-18, 1.5806e-23, 2.4595e-26],\n",
              "        [4.5621e-26, 1.0065e-14, 2.8741e-18, 5.4823e-27, 3.7304e-20, 3.2253e-23,\n",
              "         3.6964e-19, 7.5509e-26, 6.6174e-22, 1.8446e-18, 1.6994e-18, 1.5582e-23,\n",
              "         3.5976e-18, 3.6833e-17, 4.5547e-21, 1.5139e-28],\n",
              "        [3.9084e-29, 1.8027e-18, 5.8238e-23, 4.2581e-31, 8.7350e-27, 3.1920e-28,\n",
              "         7.2404e-24, 3.3465e-28, 8.6866e-28, 2.5654e-23, 5.6803e-22, 1.5248e-27,\n",
              "         1.8443e-20, 3.3418e-19, 4.1809e-26, 1.9098e-30],\n",
              "        [5.5474e-28, 7.0832e-21, 1.1156e-22, 5.7498e-28, 3.3947e-23, 4.8774e-28,\n",
              "         4.2200e-23, 2.6570e-31, 9.1334e-27, 5.5660e-23, 8.3310e-20, 1.3714e-28,\n",
              "         4.9116e-22, 1.1166e-21, 2.4186e-28, 3.2224e-29]],\n",
              "       grad_fn=<CopySlices>)"
            ]
          },
          "execution_count": 15,
          "metadata": {},
          "output_type": "execute_result"
        }
      ],
      "source": [
        "test.graph.nodes[4]['likelihood_matrix']"
      ]
    },
    {
      "attachments": {},
      "cell_type": "markdown",
      "metadata": {},
      "source": [
        "## TEST SUCCESSFUL"
      ]
    },
    {
      "cell_type": "code",
      "execution_count": null,
      "metadata": {
        "id": "xbk4QJUfBVki"
      },
      "outputs": [],
      "source": [
        "# nucl_to_ind_dict = {'A': 0, 'T': 1, 'G': 2, 'C':3}\n",
        "# ind_to_nucl_dict = {value: key for key, value in nucl_to_ind_dict.items()}\n",
        "# nucls = list(nucl_to_ind_dict.keys())\n",
        "\n",
        "\n",
        "def initial_probs():\n",
        "  return torch.ones(nucl_size) / nucl_size\n",
        "\n",
        "def likelihood_prob(l_nucl, r_nucl, l_time, r_time):\n",
        "  # s_l = substitution_matrix(0.01, l_time)\n",
        "  # s_r = substitution_matrix(0.01, r_time)\n",
        "\n",
        "  init_probs = initial_probs()\n",
        "  likelihood = torch.zeros(1)\n",
        "\n",
        "  # l_nucl_ind = nucl_to_ind_dict[l_nucl]\n",
        "  # r_nucl_ind = nucl_to_ind_dict[r_nucl]\n",
        "\n",
        "  for nucl in nucls:\n",
        "    likelihood += init_probs[nucl] * T_M[nucl, l_nucl] * l_time * T_M[nucl, r_nucl] * r_time\n",
        "\n",
        "  return likelihood\n",
        "\n"
      ]
    },
    {
      "cell_type": "code",
      "execution_count": null,
      "metadata": {
        "id": "ekJgz4qobinC"
      },
      "outputs": [],
      "source": [
        "def full_log_likelihood(l_seq, r_seq, l_time, r_time):\n",
        "  log_likelihood = torch.zeros(1)\n",
        "  for nucl_left, nucl_right in zip(l_seq, r_seq):\n",
        "    log_likelihood += torch.log(likelihood_prob(nucl_left, nucl_right, l_time, r_time))\n",
        "\n",
        "  return log_likelihood"
      ]
    },
    {
      "cell_type": "code",
      "execution_count": null,
      "metadata": {
        "colab": {
          "base_uri": "https://localhost:8080/"
        },
        "id": "atQbI5dTdCLr",
        "outputId": "25aac674-833e-4941-ed09-efba9707e13a"
      },
      "outputs": [],
      "source": [
        "full_log_likelihood([1, 15, 12, 4], [1, 15, 11, 4], 0.005, 0.015)"
      ]
    },
    {
      "cell_type": "code",
      "execution_count": null,
      "metadata": {
        "colab": {
          "base_uri": "https://localhost:8080/"
        },
        "id": "ZmNOCaBrdSm9",
        "outputId": "4ae57c48-f47c-4e5d-a4ab-7591b2fdf8ad"
      },
      "outputs": [],
      "source": [
        "full_log_likelihood([1, 15, 12, 4], [1, 15, 11, 3], 0.005, 0.015)"
      ]
    },
    {
      "cell_type": "code",
      "execution_count": null,
      "metadata": {
        "id": "UuL08qBcijwR"
      },
      "outputs": [],
      "source": [
        "for node, data in graph.nodes(data=True):\n",
        "  data['likelihood_matrix'] = torch.zeros((sequence_length, len(nucls)))"
      ]
    },
    {
      "cell_type": "code",
      "execution_count": null,
      "metadata": {
        "id": "qDAFLgrOdtBy"
      },
      "outputs": [],
      "source": [
        "def Felselstein_step(graph, k_node, a_nucl, position_nucl):\n",
        "  if len(list(graph.successors(k_node))) == 0:\n",
        "    if graph.nodes[k_node]['sequence'][position_nucl] == a_nucl:\n",
        "      graph.nodes[k_node]['likelihood_matrix'][position_nucl, a_nucl] = 1\n",
        "    else:\n",
        "      graph.nodes[k_node]['likelihood_matrix'][position_nucl, a_nucl] = 0\n",
        "\n",
        "  else:\n",
        "    graph.nodes[k_node]['likelihood_matrix'][position_nucl, a_nucl] = 0\n",
        "    l_successor, r_successor = graph.successors(k_node)\n",
        "    l_time = graph.edges[k_node, l_successor]['weight']\n",
        "    r_time = graph.edges[k_node, r_successor]['weight']\n",
        "\n",
        "    for l_nucl, r_nucl in product(nucls, nucls):\n",
        "      likelihood = T_M[a_nucl, l_nucl] * l_time * \\\n",
        "                   graph.nodes[l_successor]['likelihood_matrix'][position_nucl, l_nucl] * \\\n",
        "                   T_M[a_nucl, r_nucl] * r_time * \\\n",
        "                   graph.nodes[r_successor]['likelihood_matrix'][position_nucl, r_nucl]\n",
        "\n",
        "      graph.nodes[k_node]['likelihood_matrix'][position_nucl, a_nucl] += likelihood\n",
        "\n",
        "def Felselstein(graph):\n",
        "  leaf = [node for node in graph.nodes if len(list(graph.successors(node))) == 0][0]\n",
        "  sequence_length = len(graph.nodes[leaf]['sequence'])\n",
        "  head = [node for node in graph.nodes if len(list(graph.predecessors(node))) == 0][0]\n",
        "  nodes_order = list(nx.bfs_layers(graph, head))[::-1]\n",
        "\n",
        "  for seq_pos in range(sequence_length):\n",
        "    for layer in nodes_order:\n",
        "      for node in layer:\n",
        "        for nucl in nucls:\n",
        "          Felselstein_step(graph, node, nucl, seq_pos)"
      ]
    },
    {
      "cell_type": "code",
      "execution_count": null,
      "metadata": {
        "id": "xt8Ec5kpiN7G"
      },
      "outputs": [],
      "source": [
        "Felselstein(graph)"
      ]
    },
    {
      "cell_type": "code",
      "execution_count": null,
      "metadata": {
        "colab": {
          "base_uri": "https://localhost:8080/"
        },
        "id": "1IsGoC7fjKEd",
        "outputId": "bfd40fd2-b621-442f-b084-38d7c85b7d8d"
      },
      "outputs": [],
      "source": [
        "list(nx.bfs_layers(graph, 4))"
      ]
    },
    {
      "cell_type": "code",
      "execution_count": null,
      "metadata": {
        "colab": {
          "base_uri": "https://localhost:8080/"
        },
        "id": "CFOKyaJ_RtUM",
        "outputId": "72df768e-7074-4072-832b-a765b11c5b9c"
      },
      "outputs": [],
      "source": [
        "graph.nodes[5]['likelihood_matrix']"
      ]
    },
    {
      "cell_type": "code",
      "execution_count": null,
      "metadata": {},
      "outputs": [],
      "source": []
    },
    {
      "cell_type": "code",
      "execution_count": null,
      "metadata": {},
      "outputs": [],
      "source": []
    },
    {
      "cell_type": "code",
      "execution_count": null,
      "metadata": {},
      "outputs": [],
      "source": []
    },
    {
      "cell_type": "code",
      "execution_count": null,
      "metadata": {
        "id": "us0Cti09UwY-"
      },
      "outputs": [],
      "source": [
        "def v (ind, nucl):\n",
        "  ...\n",
        "\n",
        "def w (ind_i, ind_j, nucl_i, nucl_j):\n",
        "  ...\n",
        "\n",
        "\n",
        "def g (x):\n",
        "  ''' Formula 15 '''\n",
        "  return 2 * x / (1 - np.exp(-2 * x))\n",
        "\n",
        "def e (seq):\n",
        "  ''' Formula 30 '''\n",
        "  v_w_sum = 0\n",
        "  for i in range(len(seq)):\n",
        "    v_w_sum += v(i, seq[i])\n",
        "\n",
        "    for j in range(i + 1, len(seq)):\n",
        "      v_w_sum += w(i, j, seq[i], seq[j])\n",
        "\n",
        "  return v_w_sum\n",
        "\n",
        "\n",
        "def rate (nucl_1, nucl_2):\n",
        "  ...\n",
        "\n",
        "def p_rate(seq, ind, nucl):\n",
        "  ''' Formula 29 '''\n",
        "  seq_a = seq[:ind] + nucl + seq[ind + 1:]\n",
        "  return rate(seq[ind], nucl) * g((e(seq_a) - e(seq)) / 2)\n",
        "\n",
        "\n",
        "def transition_probability(seq_successors, seq_predecessors, length):\n",
        "  ''' Formula 28 '''\n",
        "  log_left_product = 0\n",
        "  log_right_product = 0\n",
        "\n",
        "  for i, (nucl_successor, nucl_predecessor) in enumerate(zip(seq_successors, seq_predecessors)):\n",
        "    if nucl_successor != nucl_predecessor:\n",
        "      log_left_product += np.log() + np.log(length)\n",
        "\n"
      ]
    },
    {
      "cell_type": "code",
      "execution_count": null,
      "metadata": {},
      "outputs": [],
      "source": []
    }
  ],
  "metadata": {
    "colab": {
      "provenance": [],
      "toc_visible": true
    },
    "kernelspec": {
      "display_name": "Python 3",
      "name": "python3"
    },
    "language_info": {
      "codemirror_mode": {
        "name": "ipython",
        "version": 3
      },
      "file_extension": ".py",
      "mimetype": "text/x-python",
      "name": "python",
      "nbconvert_exporter": "python",
      "pygments_lexer": "ipython3",
      "version": "3.9.16"
    }
  },
  "nbformat": 4,
  "nbformat_minor": 0
}
