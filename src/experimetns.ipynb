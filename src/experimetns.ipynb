{
  "cells": [
    {
      "cell_type": "code",
      "execution_count": 1,
      "metadata": {
        "colab": {
          "base_uri": "https://localhost:8080/"
        },
        "id": "1375B5362tlr",
        "outputId": "b9d369da-5645-49a2-f866-4a5b33fb4196"
      },
      "outputs": [
        {
          "name": "stdout",
          "output_type": "stream",
          "text": [
            "Requirement already satisfied: matplotlib in /home/denis/miniconda3/lib/python3.10/site-packages (3.7.1)\n",
            "Requirement already satisfied: kiwisolver>=1.0.1 in /home/denis/miniconda3/lib/python3.10/site-packages (from matplotlib) (1.4.4)\n",
            "Requirement already satisfied: python-dateutil>=2.7 in /home/denis/miniconda3/lib/python3.10/site-packages (from matplotlib) (2.8.2)\n",
            "Requirement already satisfied: fonttools>=4.22.0 in /home/denis/miniconda3/lib/python3.10/site-packages (from matplotlib) (4.25.0)\n",
            "Requirement already satisfied: cycler>=0.10 in /home/denis/miniconda3/lib/python3.10/site-packages (from matplotlib) (0.11.0)\n",
            "Requirement already satisfied: pillow>=6.2.0 in /home/denis/miniconda3/lib/python3.10/site-packages (from matplotlib) (9.4.0)\n",
            "Requirement already satisfied: contourpy>=1.0.1 in /home/denis/miniconda3/lib/python3.10/site-packages (from matplotlib) (1.0.5)\n",
            "Requirement already satisfied: packaging>=20.0 in /home/denis/miniconda3/lib/python3.10/site-packages (from matplotlib) (23.0)\n",
            "Requirement already satisfied: numpy>=1.20 in /home/denis/miniconda3/lib/python3.10/site-packages (from matplotlib) (1.24.3)\n",
            "Requirement already satisfied: pyparsing>=2.3.1 in /home/denis/miniconda3/lib/python3.10/site-packages (from matplotlib) (3.0.9)\n",
            "Requirement already satisfied: six>=1.5 in /home/denis/miniconda3/lib/python3.10/site-packages (from python-dateutil>=2.7->matplotlib) (1.16.0)\n",
            "Requirement already satisfied: networkx in /home/denis/miniconda3/lib/python3.10/site-packages (3.1)\n",
            "Requirement already satisfied: pydot in /home/denis/miniconda3/lib/python3.10/site-packages (1.4.2)\n",
            "Requirement already satisfied: pyparsing>=2.1.4 in /home/denis/miniconda3/lib/python3.10/site-packages (from pydot) (3.0.9)\n"
          ]
        }
      ],
      "source": [
        "! pip install matplotlib\n",
        "! pip install networkx\n",
        "! pip install pydot"
      ]
    },
    {
      "cell_type": "code",
      "execution_count": 2,
      "metadata": {
        "id": "Yj-8GBcK2jeN"
      },
      "outputs": [],
      "source": [
        "import networkx as nx\n",
        "import matplotlib.pyplot as plt\n",
        "from networkx.drawing.nx_pydot import graphviz_layout\n",
        "import pydot\n",
        "import numpy as np\n",
        "from itertools import product\n",
        "from collections import deque"
      ]
    },
    {
      "cell_type": "code",
      "execution_count": 3,
      "metadata": {
        "id": "_EyKNO0Y24Zp"
      },
      "outputs": [],
      "source": [
        "graph = nx.DiGraph()\n",
        "tree = [(4, 5, 1.0), (4, 6, 4.6), (5, 0, 3.2), (5, 1, 2.2), (6, 2, 0.1), (6, 3, 2.4)]\n",
        "for parent, child, weight in tree:\n",
        "    graph.add_edge(parent, child, weight=weight)\n"
      ]
    },
    {
      "cell_type": "code",
      "execution_count": 4,
      "metadata": {
        "colab": {
          "base_uri": "https://localhost:8080/",
          "height": 491
        },
        "id": "QylqN7IY25Jh",
        "outputId": "4a97b125-60f0-4a37-f8e0-2f4272404e64"
      },
      "outputs": [
        {
          "name": "stderr",
          "output_type": "stream",
          "text": [
            "/tmp/ipykernel_38974/1549924494.py:1: DeprecationWarning: nx.nx_pydot.graphviz_layout depends on the pydot package, which hasknown issues and is not actively maintained. Consider usingnx.nx_agraph.graphviz_layout instead.\n",
            "\n",
            "See https://github.com/networkx/networkx/issues/5723\n",
            "  pos = graphviz_layout(graph, prog=\"dot\")\n"
          ]
        },
        {
          "data": {
            "image/png": "[encoded data removed]",
            "text/plain": [
              "<Figure size 640x480 with 1 Axes>"
            ]
          },
          "metadata": {},
          "output_type": "display_data"
        }
      ],
      "source": [
        "pos = graphviz_layout(graph, prog=\"dot\")\n",
        "nx.draw_networkx(graph, pos, with_labels=True)\n",
        "plt.show()"
      ]
    },
    {
      "cell_type": "code",
      "execution_count": 5,
      "metadata": {
        "colab": {
          "base_uri": "https://localhost:8080/"
        },
        "id": "eNLJ4KZcgI3o",
        "outputId": "b2eeea59-afda-4069-f3ed-54cf693c37c2"
      },
      "outputs": [
        {
          "data": {
            "text/plain": [
              "[]"
            ]
          },
          "execution_count": 5,
          "metadata": {},
          "output_type": "execute_result"
        }
      ],
      "source": [
        "list(graph.successors(0))"
      ]
    },
    {
      "cell_type": "code",
      "execution_count": 6,
      "metadata": {
        "id": "VuQ6FupYgIdZ"
      },
      "outputs": [],
      "source": [
        "graph.nodes[0]['sequence'] = 'ATGG'\n",
        "graph.nodes[1]['sequence'] = 'ATGC'\n",
        "graph.nodes[2]['sequence'] = 'CTGG'\n",
        "graph.nodes[3]['sequence'] = 'ATTG'\n"
      ]
    },
    {
      "cell_type": "code",
      "execution_count": 7,
      "metadata": {
        "id": "hClguxB73BmQ"
      },
      "outputs": [],
      "source": [
        "def substitution_matrix (alpha, time):\n",
        "  r_t = 1/4 * (1 + 3 * np.exp(-4 * alpha * time))\n",
        "  s_t = 1/4 * (1 - np.exp(-4 * alpha * time))\n",
        "  matrix = np.ones((4, 4), dtype=float)\n",
        "  matrix *= s_t\n",
        "  np.fill_diagonal(matrix, r_t)\n",
        "  return matrix\n"
      ]
    },
    {
      "cell_type": "code",
      "execution_count": 8,
      "metadata": {
        "colab": {
          "base_uri": "https://localhost:8080/"
        },
        "id": "1t7JpTqk-2qP",
        "outputId": "c21f51db-7f97-4e50-a23f-ec767701f71f"
      },
      "outputs": [
        {
          "data": {
            "text/plain": [
              "array([[0.86404806, 0.04531731, 0.04531731, 0.04531731],\n",
              "       [0.04531731, 0.86404806, 0.04531731, 0.04531731],\n",
              "       [0.04531731, 0.04531731, 0.86404806, 0.04531731],\n",
              "       [0.04531731, 0.04531731, 0.04531731, 0.86404806]])"
            ]
          },
          "execution_count": 8,
          "metadata": {},
          "output_type": "execute_result"
        }
      ],
      "source": [
        "substitution_matrix(0.01, 5)"
      ]
    },
    {
      "cell_type": "code",
      "execution_count": 9,
      "metadata": {
        "id": "to8Wbs-9-6Dg"
      },
      "outputs": [],
      "source": [
        "def initial_probs ():\n",
        "  return np.ones(4, dtype=float) * 1/4"
      ]
    },
    {
      "cell_type": "code",
      "execution_count": 10,
      "metadata": {
        "id": "xbk4QJUfBVki"
      },
      "outputs": [],
      "source": [
        "nucl_to_ind_dict = {'A': 0, 'T': 1, 'G': 2, 'C':3}\n",
        "ind_to_nucl_dict = {value: key for key, value in nucl_to_ind_dict.items()}\n",
        "nucls = list(nucl_to_ind_dict.keys())\n",
        "\n",
        "def likelihood_prob (l_nucl, r_nucl, l_time, r_time):\n",
        "  s_l = substitution_matrix(0.01, l_time)\n",
        "  s_r = substitution_matrix(0.01, r_time)\n",
        "  init_probs = initial_probs()\n",
        "  likelihood = 0\n",
        "\n",
        "\n",
        "  l_nucl_ind = nucl_to_ind_dict[l_nucl]\n",
        "  r_nucl_ind = nucl_to_ind_dict[r_nucl]\n",
        "\n",
        "  for nucl in nucls:\n",
        "    nucl_ind = nucl_to_ind_dict[nucl]\n",
        "    likelihood += init_probs[nucl_ind] * s_l[nucl_ind, l_nucl_ind] *  s_r[nucl_ind, r_nucl_ind]\n",
        "\n",
        "  return likelihood\n",
        "\n"
      ]
    },
    {
      "cell_type": "code",
      "execution_count": 11,
      "metadata": {
        "id": "ekJgz4qobinC"
      },
      "outputs": [],
      "source": [
        "def full_log_likelihood (l_seq, r_seq, l_time, r_time):\n",
        "  log_likelihood = 0\n",
        "  for nucl_left, nucl_right in zip(l_seq, r_seq):\n",
        "    log_likelihood += np.log(likelihood_prob(nucl_left, nucl_right, l_time, r_time))\n",
        "\n",
        "  return log_likelihood\n",
        "\n"
      ]
    },
    {
      "cell_type": "code",
      "execution_count": 12,
      "metadata": {
        "colab": {
          "base_uri": "https://localhost:8080/"
        },
        "id": "atQbI5dTdCLr",
        "outputId": "25aac674-833e-4941-ed09-efba9707e13a"
      },
      "outputs": [
        {
          "data": {
            "text/plain": [
              "-60.81021945632898"
            ]
          },
          "execution_count": 12,
          "metadata": {},
          "output_type": "execute_result"
        }
      ],
      "source": [
        "full_log_likelihood('ACTGGGG', 'GGTCCCA', 0.005, 0.015)"
      ]
    },
    {
      "cell_type": "code",
      "execution_count": 13,
      "metadata": {
        "colab": {
          "base_uri": "https://localhost:8080/"
        },
        "id": "ZmNOCaBrdSm9",
        "outputId": "4ae57c48-f47c-4e5d-a4ab-7591b2fdf8ad"
      },
      "outputs": [
        {
          "data": {
            "text/plain": [
              "-60.81021945632901"
            ]
          },
          "execution_count": 13,
          "metadata": {},
          "output_type": "execute_result"
        }
      ],
      "source": [
        "full_log_likelihood('ACTGGGG', 'GGTCCCA', 0.01, 0.01)"
      ]
    },
    {
      "cell_type": "code",
      "execution_count": 14,
      "metadata": {
        "id": "UuL08qBcijwR"
      },
      "outputs": [],
      "source": [
        "sequence_length = len('ACTG')\n",
        "for node, data in graph.nodes(data=True):\n",
        "  data['likelihood_matrix'] = np.zeros((sequence_length, len(nucls)), dtype=float)"
      ]
    },
    {
      "cell_type": "code",
      "execution_count": 15,
      "metadata": {
        "colab": {
          "base_uri": "https://localhost:8080/"
        },
        "id": "C_vrFURQmE30",
        "outputId": "42b94fcd-2310-4958-a261-028efc0169ab"
      },
      "outputs": [
        {
          "data": {
            "text/plain": [
              "[5, 6]"
            ]
          },
          "execution_count": 15,
          "metadata": {},
          "output_type": "execute_result"
        }
      ],
      "source": [
        "list(graph.successors(4))"
      ]
    },
    {
      "cell_type": "code",
      "execution_count": 16,
      "metadata": {
        "colab": {
          "base_uri": "https://localhost:8080/"
        },
        "id": "Mv92R29qukaH",
        "outputId": "09316570-4750-499d-9e45-2a9cb9759e3e"
      },
      "outputs": [
        {
          "data": {
            "text/plain": [
              "4.6"
            ]
          },
          "execution_count": 16,
          "metadata": {},
          "output_type": "execute_result"
        }
      ],
      "source": [
        "graph.edges[4, 6]['weight']"
      ]
    },
    {
      "cell_type": "code",
      "execution_count": 17,
      "metadata": {
        "id": "qDAFLgrOdtBy"
      },
      "outputs": [],
      "source": [
        "alpha = 0.00001\n",
        "def Felselstein_step(graph, k_node, a_nucl, position_nucl):\n",
        "  a_nucl_ind = nucl_to_ind_dict[a_nucl]\n",
        "  if len(list(graph.successors(k_node))) == 0:\n",
        "    if graph.nodes[k_node]['sequence'][position_nucl] == a_nucl:\n",
        "      graph.nodes[k_node]['likelihood_matrix'][position_nucl, a_nucl_ind] = 1\n",
        "    else:\n",
        "      graph.nodes[k_node]['likelihood_matrix'][position_nucl, a_nucl_ind] = 0\n",
        "\n",
        "  else:\n",
        "    graph.nodes[k_node]['likelihood_matrix'][position_nucl, a_nucl_ind] = 0\n",
        "    l_successor, r_successor = graph.successors(k_node)\n",
        "    l_time = graph.edges[k_node, l_successor]['weight']\n",
        "    r_time = graph.edges[k_node, r_successor]['weight']\n",
        "\n",
        "\n",
        "    substitution_matrix_left = substitution_matrix(alpha, l_time)\n",
        "    substitution_matrix_right = substitution_matrix(alpha, r_time)\n",
        "\n",
        "    for l_nucl, r_nucl in product(nucls, nucls):\n",
        "      l_nucl_ind = nucl_to_ind_dict[l_nucl]\n",
        "      r_nucl_ind = nucl_to_ind_dict[r_nucl]\n",
        "\n",
        "      likelihood = substitution_matrix_left[a_nucl_ind, l_nucl_ind] * graph.nodes[l_successor]['likelihood_matrix'][position_nucl, l_nucl_ind] * \\\n",
        "                   substitution_matrix_right[a_nucl_ind, r_nucl_ind] * graph.nodes[r_successor]['likelihood_matrix'][position_nucl, r_nucl_ind]\n",
        "\n",
        "      graph.nodes[k_node]['likelihood_matrix'][position_nucl, a_nucl_ind] += likelihood\n",
        "\n",
        "\n",
        "\n",
        "def Felselstein(graph):\n",
        "  leaf = [node for node in graph.nodes if len(list(graph.successors(node))) == 0][0]\n",
        "  sequence_length = len(graph.nodes[leaf]['sequence'])\n",
        "  head = [node for node in graph.nodes if len(list(graph.predecessors(node))) == 0][0]\n",
        "  nodes_order = list(nx.bfs_layers(graph, head))[::-1]\n",
        "\n",
        "  for seq_pos in range(sequence_length):\n",
        "    for layer in nodes_order:\n",
        "      for node in layer:\n",
        "        for nucl in nucls:\n",
        "          Felselstein_step(graph, node, nucl, seq_pos)\n",
        "\n",
        "\n",
        "\n"
      ]
    },
    {
      "cell_type": "code",
      "execution_count": 18,
      "metadata": {
        "id": "xt8Ec5kpiN7G"
      },
      "outputs": [],
      "source": [
        "Felselstein(graph)"
      ]
    },
    {
      "cell_type": "code",
      "execution_count": 19,
      "metadata": {
        "colab": {
          "base_uri": "https://localhost:8080/"
        },
        "id": "1IsGoC7fjKEd",
        "outputId": "bfd40fd2-b621-442f-b084-38d7c85b7d8d"
      },
      "outputs": [
        {
          "data": {
            "text/plain": [
              "[[4], [5, 6], [0, 1, 2, 3]]"
            ]
          },
          "execution_count": 19,
          "metadata": {},
          "output_type": "execute_result"
        }
      ],
      "source": [
        "list(nx.bfs_layers(graph, 4))"
      ]
    },
    {
      "cell_type": "code",
      "execution_count": 20,
      "metadata": {
        "colab": {
          "base_uri": "https://localhost:8080/"
        },
        "id": "CFOKyaJ_RtUM",
        "outputId": "72df768e-7074-4072-832b-a765b11c5b9c"
      },
      "outputs": [
        {
          "data": {
            "text/plain": [
              "{'likelihood_matrix': array([[9.99838015e-01, 7.03923973e-10, 7.03923973e-10, 7.03923973e-10],\n",
              "        [7.03923973e-10, 9.99838015e-01, 7.03923973e-10, 7.03923973e-10],\n",
              "        [7.03923973e-10, 7.03923973e-10, 9.99838015e-01, 7.03923973e-10],\n",
              "        [7.03923973e-10, 7.03923973e-10, 2.19969203e-05, 3.19958403e-05]])}"
            ]
          },
          "execution_count": 20,
          "metadata": {},
          "output_type": "execute_result"
        }
      ],
      "source": [
        "graph.nodes[5]"
      ]
    },
    {
      "cell_type": "code",
      "execution_count": 22,
      "metadata": {
        "id": "us0Cti09UwY-"
      },
      "outputs": [],
      "source": [
        "def v (ind, nucl):\n",
        "  ...\n",
        "\n",
        "def w (ind_i, ind_j, nucl_i, nucl_j):\n",
        "  ...\n",
        "\n",
        "\n",
        "def g (x):\n",
        "  ''' Formula 15 '''\n",
        "  return 2 * x / (1 - np.exp(-2 * x))\n",
        "\n",
        "def e (seq):\n",
        "  ''' Formula 30 '''\n",
        "  v_w_sum = 0\n",
        "  for i in range(len(seq)):\n",
        "    v_w_sum += v(i, seq[i])\n",
        "\n",
        "    for j in range(i + 1, len(seq)):\n",
        "      v_w_sum += w(i, j, seq[i], seq[j])\n",
        "\n",
        "  return v_w_sum\n",
        "\n",
        "\n",
        "def rate (nucl_1, nucl_2):\n",
        "  ...\n",
        "\n",
        "def p_rate(seq, ind, nucl):\n",
        "  ''' Formula 29 '''\n",
        "  seq_a = seq[:ind] + nucl + seq[ind + 1:]\n",
        "  return rate(seq[ind], nucl) * g((e(seq_a) - e(seq)) / 2)\n",
        "\n",
        "\n",
        "def transition_probability(seq_successors, seq_predecessors, length):\n",
        "  ''' Formula 28 '''\n",
        "  log_left_product = 0\n",
        "  log_right_product = 0\n",
        "\n",
        "  for i, (nucl_successor, nucl_predecessor) in enumerate(zip(seq_successors, seq_predecessors)):\n",
        "    if nucl_successor != nucl_predecessor:\n",
        "      log_left_product += np.log() + np.log(length)\n",
        "\n"
      ]
    },
    {
      "cell_type": "code",
      "execution_count": 24,
      "metadata": {},
      "outputs": [],
      "source": [
        "class Human:\n",
        "    def __init__(self, name, age):\n",
        "        print('Hello from init')\n",
        "        self.name = name\n",
        "        self.age = age\n",
        "\n",
        "    def print_me(self):\n",
        "        print(f'My name is {self.name} I am {self.age} years old')\n"
      ]
    },
    {
      "cell_type": "code",
      "execution_count": 25,
      "metadata": {},
      "outputs": [
        {
          "name": "stdout",
          "output_type": "stream",
          "text": [
            "Hello from init\n",
            "My name is Sasha I am 23 years old\n"
          ]
        }
      ],
      "source": [
        "a = Human('Sasha', 23)\n",
        "a.print_me()"
      ]
    },
    {
      "cell_type": "code",
      "execution_count": null,
      "metadata": {},
      "outputs": [],
      "source": []
    }
  ],
  "metadata": {
    "colab": {
      "provenance": [],
      "toc_visible": true
    },
    "kernelspec": {
      "display_name": "Python 3",
      "name": "python3"
    },
    "language_info": {
      "codemirror_mode": {
        "name": "ipython",
        "version": 3
      },
      "file_extension": ".py",
      "mimetype": "text/x-python",
      "name": "python",
      "nbconvert_exporter": "python",
      "pygments_lexer": "ipython3",
      "version": "3.10.10"
    }
  },
  "nbformat": 4,
  "nbformat_minor": 0
}
